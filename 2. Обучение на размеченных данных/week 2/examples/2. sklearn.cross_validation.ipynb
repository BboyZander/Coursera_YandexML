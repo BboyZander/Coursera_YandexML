{
 "cells": [
  {
   "cell_type": "markdown",
   "metadata": {},
   "source": [
    "# Sklearn"
   ]
  },
  {
   "cell_type": "markdown",
   "metadata": {},
   "source": [
    "## sklearn.model_selection"
   ]
  },
  {
   "cell_type": "markdown",
   "metadata": {},
   "source": [
    "документация: http://scikit-learn.org/stable/modules/cross_validation.html"
   ]
  },
  {
   "cell_type": "code",
   "execution_count": 1,
   "metadata": {
    "collapsed": true
   },
   "outputs": [],
   "source": [
    "from sklearn import model_selection, datasets\n",
    "\n",
    "import numpy as np"
   ]
  },
  {
   "cell_type": "markdown",
   "metadata": {},
   "source": [
    "### Разовое разбиение данных на обучение и тест с помощью train_test_split"
   ]
  },
  {
   "cell_type": "code",
   "execution_count": 2,
   "metadata": {
    "collapsed": true
   },
   "outputs": [],
   "source": [
    "iris = datasets.load_iris()"
   ]
  },
  {
   "cell_type": "code",
   "execution_count": 3,
   "metadata": {
    "collapsed": true
   },
   "outputs": [],
   "source": [
    "train_data, test_data, train_labels, test_labels = model_selection.train_test_split(iris.data, iris.target, \n",
    "                                                                                     test_size = 0.3)"
   ]
  },
  {
   "cell_type": "code",
   "execution_count": 4,
   "metadata": {},
   "outputs": [
    {
     "data": {
      "text/plain": [
       "0.3"
      ]
     },
     "execution_count": 4,
     "metadata": {},
     "output_type": "execute_result"
    }
   ],
   "source": [
    "#убедимся, что тестовая выборка действительно составляет 0.3 от всех данных\n",
    "float(len(test_labels))/len(iris.data)"
   ]
  },
  {
   "cell_type": "code",
   "execution_count": 5,
   "metadata": {},
   "outputs": [
    {
     "name": "stdout",
     "output_type": "stream",
     "text": [
      "Размер обучающей выборки: 105 объектов \n",
      "Размер тестовой выборки: 45 объектов\n"
     ]
    }
   ],
   "source": [
    "print('Размер обучающей выборки: {} объектов \\nРазмер тестовой выборки: {} объектов'.format(len(train_data),\n",
    "                                                                                            len(test_data)))"
   ]
  },
  {
   "cell_type": "code",
   "execution_count": 6,
   "metadata": {},
   "outputs": [
    {
     "name": "stdout",
     "output_type": "stream",
     "text": [
      "Обучающая выборка:\n",
      " [[ 5.2  4.1  1.5  0.1]\n",
      " [ 5.4  3.4  1.5  0.4]\n",
      " [ 5.   2.   3.5  1. ]\n",
      " [ 6.7  3.3  5.7  2.5]\n",
      " [ 5.8  4.   1.2  0.2]]\n",
      "\n",
      "\n",
      "Тестовая выборка:\n",
      " [[ 7.4  2.8  6.1  1.9]\n",
      " [ 5.7  3.8  1.7  0.3]\n",
      " [ 6.   2.9  4.5  1.5]\n",
      " [ 7.9  3.8  6.4  2. ]\n",
      " [ 5.1  2.5  3.   1.1]]\n"
     ]
    }
   ],
   "source": [
    "print('Обучающая выборка:\\n', train_data[:5])\n",
    "print('\\n')\n",
    "print('Тестовая выборка:\\n', test_data[:5])"
   ]
  },
  {
   "cell_type": "code",
   "execution_count": 7,
   "metadata": {},
   "outputs": [
    {
     "name": "stdout",
     "output_type": "stream",
     "text": [
      "Метки классов на обучающей выборке:\n",
      " [0 0 1 2 0 1 0 1 0 1 0 0 0 2 0 1 0 1 0 0 0 1 2 2 1 2 2 2 1 0 1 0 2 0 1 1 0\n",
      " 0 2 1 0 0 2 0 1 0 2 0 0 2 2 1 0 0 1 1 1 1 1 2 1 2 1 2 2 1 1 0 2 0 2 1 1 2\n",
      " 2 2 1 0 2 1 1 2 2 1 1 1 2 2 2 2 2 1 2 2 1 0 0 0 0 1 0 2 0 2 2]\n",
      "\n",
      "\n",
      "Метки классов на тестовой выборке:\n",
      " [2 0 1 2 1 2 1 1 2 0 1 0 2 0 1 1 1 0 2 1 2 1 2 2 0 2 1 1 0 1 1 1 2 2 2 0 2\n",
      " 0 0 0 0 0 2 0 0]\n"
     ]
    }
   ],
   "source": [
    "print('Метки классов на обучающей выборке:\\n', train_labels)\n",
    "print('\\n')\n",
    "print('Метки классов на тестовой выборке:\\n', test_labels)"
   ]
  },
  {
   "cell_type": "markdown",
   "metadata": {},
   "source": [
    "### Стратегии проведения кросс-валидации"
   ]
  },
  {
   "cell_type": "code",
   "execution_count": 10,
   "metadata": {
    "collapsed": true
   },
   "outputs": [],
   "source": [
    "#сгенерируем короткое подобие датасета, где элементы совпадают с порядковым номером\n",
    "X = range(0,10)"
   ]
  },
  {
   "cell_type": "markdown",
   "metadata": {},
   "source": [
    "#### KFold"
   ]
  },
  {
   "cell_type": "code",
   "execution_count": 12,
   "metadata": {},
   "outputs": [
    {
     "name": "stdout",
     "output_type": "stream",
     "text": [
      "[2 3 4 5 6 7 8 9] [0 1]\n",
      "[0 1 4 5 6 7 8 9] [2 3]\n",
      "[0 1 2 3 6 7 8 9] [4 5]\n",
      "[0 1 2 3 4 5 8 9] [6 7]\n",
      "[0 1 2 3 4 5 6 7] [8 9]\n"
     ]
    }
   ],
   "source": [
    "kf = model_selection.KFold(n_splits = 5)\n",
    "for train_indices, test_indices in kf.split(X):\n",
    "    print(train_indices, test_indices)"
   ]
  },
  {
   "cell_type": "code",
   "execution_count": 22,
   "metadata": {},
   "outputs": [
    {
     "name": "stdout",
     "output_type": "stream",
     "text": [
      "[4 5 6 7 9] [0 1 2 3 8]\n",
      "[0 1 2 3 8] [4 5 6 7 9]\n"
     ]
    }
   ],
   "source": [
    "kf = model_selection.KFold(n_splits = 2, shuffle = True)\n",
    "for train_indices, test_indices in kf.split(X):\n",
    "    print(train_indices, test_indices)"
   ]
  },
  {
   "cell_type": "code",
   "execution_count": 23,
   "metadata": {},
   "outputs": [
    {
     "name": "stdout",
     "output_type": "stream",
     "text": [
      "[1 3 5 7 8] [0 2 4 6 9]\n",
      "[0 2 4 6 9] [1 3 5 7 8]\n"
     ]
    }
   ],
   "source": [
    "kf = model_selection.KFold(n_splits = 2, shuffle = True, random_state = 1)\n",
    "for train_indices, test_indices in kf.split(X):\n",
    "    print(train_indices, test_indices)"
   ]
  },
  {
   "cell_type": "markdown",
   "metadata": {},
   "source": [
    "#### StratifiedKFold"
   ]
  },
  {
   "cell_type": "code",
   "execution_count": 33,
   "metadata": {},
   "outputs": [
    {
     "name": "stdout",
     "output_type": "stream",
     "text": [
      "[0 0 0 0 0 1 1 1 1 1]\n",
      "[3 4 8 9] [0 1 2 5 6 7]\n",
      "[0 1 2 5 6 7] [3 4 8 9]\n"
     ]
    }
   ],
   "source": [
    "y = np.array([0] * 5 + [1] * 5)\n",
    "print(y)\n",
    "\n",
    "skf = model_selection.StratifiedKFold(n_splits = 2, shuffle = True, random_state = 0)\n",
    "for train_indices, test_indices in skf.split(X, y):\n",
    "    print(train_indices, test_indices)"
   ]
  },
  {
   "cell_type": "code",
   "execution_count": 28,
   "metadata": {},
   "outputs": [
    {
     "name": "stdout",
     "output_type": "stream",
     "text": [
      "[0 1 0 1 0 1 0 1 0 1]\n",
      "[2 3 7 8] [0 1 4 5 6 9]\n",
      "[0 1 4 5 6 9] [2 3 7 8]\n"
     ]
    }
   ],
   "source": [
    "target = np.array([0, 1] * 5)\n",
    "print(target)\n",
    "\n",
    "skf = model_selection.StratifiedKFold(n_splits = 2,shuffle = True)\n",
    "for train_indices, test_indices in skf.split(X, target):\n",
    "    print(train_indices, test_indices)"
   ]
  },
  {
   "cell_type": "markdown",
   "metadata": {},
   "source": [
    "#### ShuffleSplit"
   ]
  },
  {
   "cell_type": "code",
   "execution_count": 34,
   "metadata": {},
   "outputs": [
    {
     "name": "stdout",
     "output_type": "stream",
     "text": [
      "[8 1 6 5 0 3 4 9] [2 7]\n",
      "[1 2 8 3 6 5 7 0] [4 9]\n",
      "[4 2 1 7 3 5 9 8] [0 6]\n",
      "[9 5 8 3 1 0 4 6] [7 2]\n",
      "[4 7 9 0 3 8 1 5] [2 6]\n",
      "[5 7 8 1 6 3 0 4] [9 2]\n",
      "[7 8 4 5 6 3 0 9] [2 1]\n",
      "[0 6 9 7 5 2 4 3] [1 8]\n",
      "[5 6 2 0 8 1 9 7] [4 3]\n",
      "[0 1 3 2 4 9 7 8] [6 5]\n"
     ]
    }
   ],
   "source": [
    "ss = model_selection.ShuffleSplit(n_splits = 10, test_size = 0.2)\n",
    "\n",
    "for train_indices, test_indices in ss.split(X):\n",
    "    print(train_indices, test_indices)"
   ]
  },
  {
   "cell_type": "markdown",
   "metadata": {},
   "source": [
    "#### StratifiedShuffleSplit"
   ]
  },
  {
   "cell_type": "code",
   "execution_count": 36,
   "metadata": {},
   "outputs": [
    {
     "name": "stdout",
     "output_type": "stream",
     "text": [
      "[0 0 0 0 0 1 1 1 1 1]\n",
      "[7 8 3 6 2 1 4 9] [0 5]\n",
      "[9 1 4 3 6 7 5 2] [8 0]\n",
      "[6 0 5 1 8 4 2 7] [9 3]\n",
      "[7 5 8 4 3 9 0 1] [2 6]\n"
     ]
    }
   ],
   "source": [
    "target = np.array([0] * 5 + [1] * 5)\n",
    "print(target)\n",
    "\n",
    "sss = model_selection.StratifiedShuffleSplit(n_splits = 4, test_size = 0.2)\n",
    "for train_indices, test_indices in sss.split(X, target):\n",
    "    print(train_indices, test_indices)"
   ]
  },
  {
   "cell_type": "markdown",
   "metadata": {},
   "source": [
    "#### Leave-One-Out"
   ]
  },
  {
   "cell_type": "code",
   "execution_count": 37,
   "metadata": {},
   "outputs": [
    {
     "name": "stdout",
     "output_type": "stream",
     "text": [
      "[1 2 3 4 5 6 7 8 9] [0]\n",
      "[0 2 3 4 5 6 7 8 9] [1]\n",
      "[0 1 3 4 5 6 7 8 9] [2]\n",
      "[0 1 2 4 5 6 7 8 9] [3]\n",
      "[0 1 2 3 5 6 7 8 9] [4]\n",
      "[0 1 2 3 4 6 7 8 9] [5]\n",
      "[0 1 2 3 4 5 7 8 9] [6]\n",
      "[0 1 2 3 4 5 6 8 9] [7]\n",
      "[0 1 2 3 4 5 6 7 9] [8]\n",
      "[0 1 2 3 4 5 6 7 8] [9]\n"
     ]
    }
   ],
   "source": [
    "loo = model_selection.LeaveOneOut()\n",
    "\n",
    "for train_indices, test_index in loo.split(X):\n",
    "    print(train_indices, test_index)"
   ]
  },
  {
   "cell_type": "markdown",
   "metadata": {},
   "source": [
    "Больше стратегий проведения кросс-валидации доступно здесь: http://scikit-learn.org/stable/modules/cross_validation.html#cross-validation-iterators"
   ]
  },
  {
   "cell_type": "code",
   "execution_count": 2,
   "metadata": {
    "collapsed": true
   },
   "outputs": [],
   "source": [
    "#сгенерируем короткое подобие датасета, где элементы совпадают с порядковым номером\n",
    "X = range(0,50)"
   ]
  },
  {
   "cell_type": "code",
   "execution_count": 9,
   "metadata": {},
   "outputs": [
    {
     "name": "stdout",
     "output_type": "stream",
     "text": [
      "[24  4  1 12 43  0 38 14 33 26  8 23 15 17  5 11 29 44 22  3 39 10 31 13 19\n",
      "  9 34 28 46 37 48 40 27 47  6 25 49 36 32 41] [18 21  2 45 30 42 20 35 16  7]\n",
      "[ 1 26 49  9 48 20 34 29 32  7 35 27 33 47  0  4 46 28  2 25 12 23 22 10 39\n",
      " 45 31  5 18 43 19 21 42 15  3 38 37 40 36 24] [17 44 41  8  6 13 16 30 11 14]\n",
      "[ 1 30  4 26 11 41 45 25 27 14 16 42 22 31  0  6  9 38 28 12 35 43 29 48 34\n",
      " 32 39 10 20 40  8 47 21 13 23 44 33  5 17 19] [ 2 46 24 37 15  3 49 18 36  7]\n",
      "[24 23  0 37 12 25  4 38 15 46 31 26 40 44 33 27 21 42 39 43 22 45 35  9 30\n",
      " 16 20 19 49  3 28 11 14  8  6  1  2 17 29 34] [41 10  7 47 18 13 32 48  5 36]\n",
      "[38 16 37 48 45 14  0  4 32 10 30 43 44 28 24 27  3  8 31 18  6 17 41 33 34\n",
      "  9 13 39 25 42 40  2  5 22 35 49 15 19  7 47] [11 23 36 46 20  1 29 26 21 12]\n",
      "[27 29 41 14 30 48  1 47 31 44 11 20 22  5 28  7 25 32 18  6 15  9 24 36 42\n",
      " 23 19 37  0  8 49 16 38 12 33 43 34 10  3 39] [45 35 13 46 26 40  4 17  2 21]\n",
      "[36 33  8 45 34 23  7 46 24 42 25 47 30  4 35 26 13 31 17 40  0  3 22 44 39\n",
      " 49 14 11 10 32 15 16 27  1 43 37 19  5 20 38] [ 9 21 12 28 41  2 29 48  6 18]\n",
      "[16 10 13 41 11 37 32  1 47 44 25 20 42 17 38 14 21 31 19  3 29 23 40 43 45\n",
      "  0 46 12 27  7  6  4 22 36 15 18  5 30  8 48] [34  9 24  2 26 39 35 33 49 28]\n",
      "[25  5 27 29 49 45  8  7 44 23 36 34  2 22 33 19  0 42 38 26 46  3 32 12 17\n",
      " 40  6 39 14  9  4 31 30 35 43 20 37 21 28 10] [18 24 48 47 13 15 11  1 41 16]\n",
      "[17 16 26 42 41 20 35 30 47  8 33 25 49 40  2  6 19 14 28 46 44 22 18 29  1\n",
      " 15 48 43  9 34 39 11 36 23 27 13 12 32  4 37] [ 3  0 45  5  7 10 38 24 21 31]\n"
     ]
    }
   ],
   "source": [
    "ss = model_selection.ShuffleSplit(n_splits = 10, test_size = 10)\n",
    "\n",
    "for train_indices, test_indices in ss.split(X):\n",
    "    print(train_indices, test_indices)"
   ]
  },
  {
   "cell_type": "code",
   "execution_count": 10,
   "metadata": {},
   "outputs": [
    {
     "data": {
      "text/plain": [
       "(40,)"
      ]
     },
     "execution_count": 10,
     "metadata": {},
     "output_type": "execute_result"
    }
   ],
   "source": [
    "train_indices.shape"
   ]
  },
  {
   "cell_type": "code",
   "execution_count": 5,
   "metadata": {},
   "outputs": [
    {
     "data": {
      "text/plain": [
       "ShuffleSplit(n_splits=10, random_state=None, test_size=0.2, train_size=None)"
      ]
     },
     "execution_count": 5,
     "metadata": {},
     "output_type": "execute_result"
    }
   ],
   "source": [
    "ss"
   ]
  },
  {
   "cell_type": "code",
   "execution_count": null,
   "metadata": {
    "collapsed": true
   },
   "outputs": [],
   "source": []
  }
 ],
 "metadata": {
  "anaconda-cloud": {},
  "kernelspec": {
   "display_name": "Python 3",
   "language": "python",
   "name": "python3"
  },
  "language_info": {
   "codemirror_mode": {
    "name": "ipython",
    "version": 3
   },
   "file_extension": ".py",
   "mimetype": "text/x-python",
   "name": "python",
   "nbconvert_exporter": "python",
   "pygments_lexer": "ipython3",
   "version": "3.6.1"
  }
 },
 "nbformat": 4,
 "nbformat_minor": 1
}
